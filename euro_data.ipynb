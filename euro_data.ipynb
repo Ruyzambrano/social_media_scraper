{
 "cells": [
  {
   "cell_type": "code",
   "execution_count": 47,
   "metadata": {},
   "outputs": [],
   "source": [
    "import pandas as pd\n",
    "from datetime import datetime\n",
    "DATA_FILEPATH = \"./data/reddit_posts.csv\""
   ]
  },
  {
   "cell_type": "code",
   "execution_count": 48,
   "metadata": {},
   "outputs": [],
   "source": [
    "data = pd.read_csv(DATA_FILEPATH)\n",
    "data[\"Time Posted\"] = pd.to_datetime(data[\"Time Posted\"], format=\"%Y-%m-%d %H:%M:%S\")"
   ]
  },
  {
   "cell_type": "code",
   "execution_count": 49,
   "metadata": {},
   "outputs": [
    {
     "name": "stdout",
     "output_type": "stream",
     "text": [
      "2024-08-02T16:47:18.000000000 <class 'numpy.datetime64'>\n",
      "2024-08-02T16:45:01.000000000 <class 'numpy.datetime64'>\n",
      "2024-08-02T16:44:50.000000000 <class 'numpy.datetime64'>\n",
      "2024-08-02T16:44:13.000000000 <class 'numpy.datetime64'>\n",
      "2024-08-02T16:43:13.000000000 <class 'numpy.datetime64'>\n",
      "2024-08-02T16:41:59.000000000 <class 'numpy.datetime64'>\n",
      "2024-08-02T16:41:12.000000000 <class 'numpy.datetime64'>\n",
      "2024-08-02T16:40:38.000000000 <class 'numpy.datetime64'>\n",
      "2024-08-02T16:38:30.000000000 <class 'numpy.datetime64'>\n",
      "2024-08-02T16:36:25.000000000 <class 'numpy.datetime64'>\n",
      "2024-08-02T16:35:50.000000000 <class 'numpy.datetime64'>\n",
      "2024-08-02T16:27:58.000000000 <class 'numpy.datetime64'>\n",
      "2024-08-02T16:27:17.000000000 <class 'numpy.datetime64'>\n",
      "2024-08-02T16:23:23.000000000 <class 'numpy.datetime64'>\n",
      "2024-08-02T16:23:15.000000000 <class 'numpy.datetime64'>\n",
      "2024-08-02T16:22:56.000000000 <class 'numpy.datetime64'>\n",
      "2024-08-02T16:19:40.000000000 <class 'numpy.datetime64'>\n",
      "2024-08-02T16:15:52.000000000 <class 'numpy.datetime64'>\n",
      "2024-08-02T16:14:46.000000000 <class 'numpy.datetime64'>\n",
      "2024-08-02T16:11:52.000000000 <class 'numpy.datetime64'>\n"
     ]
    }
   ],
   "source": [
    "for score in data[\"Time Posted\"].values:\n",
    "    print(score, type(score))"
   ]
  },
  {
   "cell_type": "code",
   "execution_count": 50,
   "metadata": {},
   "outputs": [
    {
     "name": "stdout",
     "output_type": "stream",
     "text": [
      "2024-08-02 16:47:18\n"
     ]
    }
   ],
   "source": [
    "print(pd.read_csv(DATA_FILEPATH).astype({\"Time Posted\": \"datetime64[ns]\"})[\"Time Posted\"].max())"
   ]
  }
 ],
 "metadata": {
  "kernelspec": {
   "display_name": ".venv",
   "language": "python",
   "name": "python3"
  },
  "language_info": {
   "codemirror_mode": {
    "name": "ipython",
    "version": 3
   },
   "file_extension": ".py",
   "mimetype": "text/x-python",
   "name": "python",
   "nbconvert_exporter": "python",
   "pygments_lexer": "ipython3",
   "version": "3.12.3"
  }
 },
 "nbformat": 4,
 "nbformat_minor": 2
}
